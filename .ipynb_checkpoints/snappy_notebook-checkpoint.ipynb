{
 "cells": [
  {
   "cell_type": "code",
   "execution_count": 1,
   "id": "04d30b10-f299-4331-9f33-4a37392ab405",
   "metadata": {},
   "outputs": [],
   "source": [
    "import os\n",
    "import esa_snappy\n",
    "from esa_snappy import GPF\n",
    "from esa_snappy import ProductIO, GeoPos, PixelPos, WKTReader\n",
    "from esa_snappy import HashMap\n",
    "from esa_snappy import jpy\n",
    "import subprocess\n",
    "from time import *\n",
    "import numpy as np\n",
    "from shapely.geometry import Point, Polygon\n",
    "import geopandas as gpd\n",
    "import sys\n",
    "import xml.etree.ElementTree as ET\n",
    "import matplotlib.pyplot as plt\n",
    "from datetime import datetime\n",
    "\n",
    "from snappy_functions import extract_info, temporal_baseline, perpendicular_baseline, read_product, write\n",
    "from snappy_functions import get_subswath, check_same_subswath, topsar_split\n",
    "from snappy_functions import apply_orbit_file, back_geocoding, enhanced_spectral_diversity\n",
    "from snappy_functions import interferogram, topsar_deburst, goldstein_phase_filtering, subset\n",
    "from snappy_functions import phase_to_elevation, terrain_correction\n",
    "from snappy_functions import snaphu_export, snaphu_unwrapping, snaphu_import"
   ]
  },
  {
   "cell_type": "markdown",
   "id": "77ffe0e1-945d-42c2-81fa-cc5247777694",
   "metadata": {},
   "source": [
    "# 1. Loading data"
   ]
  },
  {
   "cell_type": "code",
   "execution_count": 2,
   "id": "27edfc0c-4a80-4260-bf7f-91733553c2bc",
   "metadata": {},
   "outputs": [],
   "source": [
    "#a = \"_data\\iceland\\S1A_IW_SLC__1SDV_20250425T184326_20250425T184349_058917_074DDB_2CFF.SAFE\" #iceland 2025\n",
    "#b = \"_data\\iceland\\S1A_IW_SLC__1SDV_20250519T184325_20250519T184352_059267_075AD4_7DCB.SAFE\"\n",
    "#aoi = \"POLYGON((-16.6992 66.1832,-15.57 66.1832,-15.57 66.5749,-16.6992 66.5749,-16.6992 66.1832))\" #iceland\n",
    "\n",
    "a = '_data\\cabo_verde\\S1C_IW_SLC__1SDV_20250508T072956_20250508T073019_002236_004BF8_2AB6.SAFE' #cabo verde 2025\n",
    "b = '_data\\cabo_verde\\S1C_IW_SLC__1SDV_20250520T072956_20250520T073020_002411_0050E8_4316.SAFE'\n",
    "aoi = \"POLYGON((-24.5393 14.7695,-24.2561 14.7695,-24.2561 15.0778,-24.5393 15.0778,-24.5393 14.7695))\" #cabo verde\n",
    "\n",
    "polarization = 'VH'\n",
    "\n",
    "DEM = \"SRTM 1Sec HGT (Auto Download)\"\n",
    "otherDEM = \"Copernicus 30m Global DEM\"\n",
    "\n",
    "snaphu_export_xml_path = r\"C:\\Users\\35196\\repos\\Sentinel1_DEMgeneration\\SnaphuExport.xml\"\n",
    "dim_snaphu_export=r\"C:\\Users\\35196\\repos\\Sentinel1_DEMgeneration\\_results\\goldstein.dim\"\n",
    "target_folder_snaphu_export=r\"C:\\Users\\35196\\repos\\Sentinel1_DEMgeneration\\_results\\_snaphu_export\"\n",
    "\n",
    "conf_file_path = r\"C:\\Users\\35196\\repos\\Sentinel1_DEMgeneration\\_results\\_snaphu_export\\goldstein\\snaphu.conf\"\n",
    "snaphu_exe_path = r\"C:\\Users\\35196\\.snap\\auxdata\\snaphu-v2.0.4_win64\\bin\\snaphu.exe\"\n",
    "target_folder_snaphu_export_something_else = r\"C:\\Users\\35196\\repos\\Sentinel1_DEMgeneration\\_results\\_snaphu_export\\goldstein\" \n"
   ]
  },
  {
   "cell_type": "code",
   "execution_count": 3,
   "id": "e818518b-3485-40ea-8c57-0119e4e73223",
   "metadata": {},
   "outputs": [],
   "source": [
    "master = read_product(a)\n",
    "slave = read_product(b)"
   ]
  },
  {
   "cell_type": "markdown",
   "id": "5dac5458-49be-43ba-bf4f-30b97c03ba56",
   "metadata": {},
   "source": [
    "# 2. Extracting basic information"
   ]
  },
  {
   "cell_type": "markdown",
   "id": "1bdef7a5-ff3d-4ea8-85e8-11b5889d16f6",
   "metadata": {},
   "source": [
    "## 2.1. Metadata information"
   ]
  },
  {
   "cell_type": "code",
   "execution_count": 4,
   "id": "74b8ee1f-e40f-48d2-bb3c-852e5c406b10",
   "metadata": {},
   "outputs": [
    {
     "name": "stdout",
     "output_type": "stream",
     "text": [
      "Product name: S1C_IW_SLC__1SDV_20250508T072956_20250508T073019_002236_004BF8_2AB6\n",
      "Product type: SLC\n",
      "Description: Sentinel-1 IW Level-1 SLC Product\n",
      "Scene width: 68590\n",
      "Scene height: 12048\n",
      "Start time: 08-MAY-2025 07:29:56.141770\n",
      "End time: 08-MAY-2025 07:30:19.494945\n",
      "\n",
      " Bands\n",
      "Number of bands: 18\n",
      "Band name: i_IW1_VH\n",
      "Band name: q_IW1_VH\n",
      "Band name: Intensity_IW1_VH\n",
      "Band name: i_IW1_VV\n",
      "Band name: q_IW1_VV\n",
      "Band name: Intensity_IW1_VV\n",
      "Band name: i_IW2_VH\n",
      "Band name: q_IW2_VH\n",
      "Band name: Intensity_IW2_VH\n",
      "Band name: i_IW2_VV\n",
      "Band name: q_IW2_VV\n",
      "Band name: Intensity_IW2_VV\n",
      "Band name: i_IW3_VH\n",
      "Band name: q_IW3_VH\n",
      "Band name: Intensity_IW3_VH\n",
      "Band name: i_IW3_VV\n",
      "Band name: q_IW3_VV\n",
      "Band name: Intensity_IW3_VV\n",
      "\n",
      "\n",
      "Product name: S1C_IW_SLC__1SDV_20250520T072956_20250520T073020_002411_0050E8_4316\n",
      "Product type: SLC\n",
      "Description: Sentinel-1 IW Level-1 SLC Product\n",
      "Scene width: 68590\n",
      "Scene height: 12048\n",
      "Start time: 20-MAY-2025 07:29:56.778777\n",
      "End time: 20-MAY-2025 07:30:20.134008\n",
      "\n",
      " Bands\n",
      "Number of bands: 18\n",
      "Band name: i_IW1_VH\n",
      "Band name: q_IW1_VH\n",
      "Band name: Intensity_IW1_VH\n",
      "Band name: i_IW1_VV\n",
      "Band name: q_IW1_VV\n",
      "Band name: Intensity_IW1_VV\n",
      "Band name: i_IW2_VH\n",
      "Band name: q_IW2_VH\n",
      "Band name: Intensity_IW2_VH\n",
      "Band name: i_IW2_VV\n",
      "Band name: q_IW2_VV\n",
      "Band name: Intensity_IW2_VV\n",
      "Band name: i_IW3_VH\n",
      "Band name: q_IW3_VH\n",
      "Band name: Intensity_IW3_VH\n",
      "Band name: i_IW3_VV\n",
      "Band name: q_IW3_VV\n",
      "Band name: Intensity_IW3_VV\n",
      "\n",
      "\n"
     ]
    }
   ],
   "source": [
    "extract_info(a)\n",
    "extract_info(b)"
   ]
  },
  {
   "cell_type": "markdown",
   "id": "971e70d8-bbb7-4285-a5e1-ace4fc5dfa68",
   "metadata": {},
   "source": [
    "## 2.2. Temporal baseline"
   ]
  },
  {
   "cell_type": "code",
   "execution_count": 5,
   "id": "af33d7ff-ff1e-4ed8-b5c6-0005132ec1ba",
   "metadata": {},
   "outputs": [
    {
     "name": "stdout",
     "output_type": "stream",
     "text": [
      "Temporal Baseline: 12.0 days\n"
     ]
    }
   ],
   "source": [
    "temporal_baseline(a, b)"
   ]
  },
  {
   "cell_type": "markdown",
   "id": "489f3f01-4871-4251-800b-6996961c35e4",
   "metadata": {},
   "source": [
    "# 3. Studying the Area of Interest"
   ]
  },
  {
   "cell_type": "code",
   "execution_count": 6,
   "id": "9237bd8e-284c-432e-90c2-e5e694a3bf46",
   "metadata": {},
   "outputs": [
    {
     "data": {
      "text/plain": [
       "'IW1'"
      ]
     },
     "execution_count": 6,
     "metadata": {},
     "output_type": "execute_result"
    }
   ],
   "source": [
    "get_subswath (aoi, master)"
   ]
  },
  {
   "cell_type": "code",
   "execution_count": 7,
   "id": "67caddc5-fb86-46f3-919b-830f6a9cfe93",
   "metadata": {},
   "outputs": [
    {
     "data": {
      "text/plain": [
       "'IW1'"
      ]
     },
     "execution_count": 7,
     "metadata": {},
     "output_type": "execute_result"
    }
   ],
   "source": [
    "get_subswath (aoi, slave)"
   ]
  },
  {
   "cell_type": "code",
   "execution_count": 8,
   "id": "c3b65c32-570c-4f06-a425-ab9613dae997",
   "metadata": {},
   "outputs": [
    {
     "name": "stdout",
     "output_type": "stream",
     "text": [
      "Both product use the same subswath: IW1\n"
     ]
    }
   ],
   "source": [
    "check_same_subswath(master, slave, aoi)"
   ]
  },
  {
   "cell_type": "markdown",
   "id": "d6c53d7f-21e6-4026-9e95-4c53b07cc8ec",
   "metadata": {},
   "source": [
    "# 4. Processing workflow"
   ]
  },
  {
   "cell_type": "markdown",
   "id": "575d8a0d-4f34-45f2-a369-b05c92f0e47d",
   "metadata": {},
   "source": [
    "## 4.1. TOPSAR-Split"
   ]
  },
  {
   "cell_type": "code",
   "execution_count": 9,
   "id": "7b63e788-a4ef-4705-80d1-ad3d7db65531",
   "metadata": {},
   "outputs": [
    {
     "name": "stdout",
     "output_type": "stream",
     "text": [
      "Apply TOPSAR Split...\n",
      "TOPSAR Split applied!\n",
      "Apply TOPSAR Split...\n",
      "TOPSAR Split applied!\n"
     ]
    }
   ],
   "source": [
    "split_master = topsar_split(master, get_subswath(aoi, master), polarization)\n",
    "split_slave = topsar_split(slave, get_subswath(aoi, slave), polarization)"
   ]
  },
  {
   "cell_type": "code",
   "execution_count": 10,
   "id": "190c41fb-227a-4236-86be-4175afb3b435",
   "metadata": {},
   "outputs": [],
   "source": [
    "#write(split_master, '_results\\split_master', 'BEAM-DIMAP')\n",
    "#write(split_slave, '_results\\split_slave', 'BEAM-DIMAP')"
   ]
  },
  {
   "cell_type": "markdown",
   "id": "3883fc80-6b0f-4609-8af6-fb5a8e0d0200",
   "metadata": {},
   "source": [
    "## 4.2. Apply Orbit File"
   ]
  },
  {
   "cell_type": "code",
   "execution_count": 11,
   "id": "330604c4-6930-4467-97a9-b26142a51d69",
   "metadata": {
    "scrolled": true
   },
   "outputs": [],
   "source": [
    "#orbit_master = apply_orbit_file(read_product('_results\\split_master.dim'))\n",
    "#orbit_slave = apply_orbit_file(read_product('_results\\split_slave.dim'))"
   ]
  },
  {
   "cell_type": "code",
   "execution_count": 12,
   "id": "f7c5dc63-e4cd-4eea-83ee-db8ea8fe1fc8",
   "metadata": {
    "scrolled": true
   },
   "outputs": [],
   "source": [
    "#write(orbit_master, '_results\\orbit_master', 'BEAM-DIMAP')\n",
    "#write(orbit_slave, '_results\\orbit_slave', 'BEAM-DIMAP')"
   ]
  },
  {
   "cell_type": "markdown",
   "id": "29b71a10-acdd-48a0-95d0-20d05a4c3b22",
   "metadata": {},
   "source": [
    "## 4.3. Back geocoding"
   ]
  },
  {
   "cell_type": "code",
   "execution_count": 13,
   "id": "24972422-b636-4b92-ac7e-0fd11d35c9b7",
   "metadata": {
    "scrolled": true
   },
   "outputs": [],
   "source": [
    "#back = back_geocoding([read_product(r'_results\\orbit_master.dim'), read_product(r'_results\\orbit_slave.dim')], DEM)"
   ]
  },
  {
   "cell_type": "code",
   "execution_count": 14,
   "id": "8b021366-9bb5-4858-bbb5-96e12bb14dd6",
   "metadata": {},
   "outputs": [],
   "source": [
    "#write(back, r'_results\\back_geocoding', 'BEAM-DIMAP')"
   ]
  },
  {
   "cell_type": "markdown",
   "id": "519c4b1e-2ba6-46de-9ab0-7ae882133e5c",
   "metadata": {},
   "source": [
    "## 4.4. Enhanced Spectral Diversity"
   ]
  },
  {
   "cell_type": "code",
   "execution_count": 15,
   "id": "80e5cbec-cb64-4c45-92e2-fbe3fea1f3fd",
   "metadata": {},
   "outputs": [
    {
     "name": "stdout",
     "output_type": "stream",
     "text": [
      "Enhancing Spectral Diversity ...\n",
      "Enhanced Spectral Diversity applied!\n"
     ]
    }
   ],
   "source": [
    "enhanced = enhanced_spectral_diversity(read_product(r'_results\\back_geocoding.dim'))"
   ]
  },
  {
   "cell_type": "code",
   "execution_count": 16,
   "id": "dc7d8bff-488b-4e62-ab62-f6a23bec5333",
   "metadata": {},
   "outputs": [],
   "source": [
    "#write(enhanced, r'_results\\enhanced', 'BEAM-DIMAP')"
   ]
  },
  {
   "cell_type": "markdown",
   "id": "84e470d9-645a-4712-89be-cd2033e54bdb",
   "metadata": {},
   "source": [
    "## 4.5. Interferogram Formation"
   ]
  },
  {
   "cell_type": "code",
   "execution_count": 17,
   "id": "f4238f67-f91c-41af-8a51-b1004bdf7068",
   "metadata": {},
   "outputs": [
    {
     "name": "stdout",
     "output_type": "stream",
     "text": [
      "Creating interferogram ...\n",
      "Interferogram created!\n"
     ]
    }
   ],
   "source": [
    "interferogram = interferogram(read_product(r'_results\\enhanced.dim'))"
   ]
  },
  {
   "cell_type": "code",
   "execution_count": 18,
   "id": "9354995f-e5ba-4466-825d-d77765b8a0a6",
   "metadata": {},
   "outputs": [],
   "source": [
    "#write(interferogram, r'_results\\interferogram', 'BEAM-DIMAP')"
   ]
  },
  {
   "cell_type": "markdown",
   "id": "b3f248b8-45ac-4c86-bd2f-a82d40c0ef6a",
   "metadata": {},
   "source": [
    "## 4.6. Calculate perpendicular baseline"
   ]
  },
  {
   "cell_type": "code",
   "execution_count": 20,
   "id": "5e1b255c-748e-4e4b-8240-15be41d92f0c",
   "metadata": {},
   "outputs": [
    {
     "name": "stdout",
     "output_type": "stream",
     "text": [
      "Perpendicular Baseline: 34.4015007019043 m\n"
     ]
    }
   ],
   "source": [
    "perpendicular_baseline(r'_results\\interferogram.dim')"
   ]
  },
  {
   "cell_type": "markdown",
   "id": "a4d813a9-ee75-45ba-aab4-9947eb56c870",
   "metadata": {},
   "source": [
    "## 4.7. Deburst"
   ]
  },
  {
   "cell_type": "code",
   "execution_count": 20,
   "id": "94e47926-f472-43a8-a0cf-f1cfe4908744",
   "metadata": {},
   "outputs": [
    {
     "name": "stdout",
     "output_type": "stream",
     "text": [
      "Apply TOPSAR Deburst...\n",
      "TOPSAR Deburst applied!\n"
     ]
    }
   ],
   "source": [
    "deburst = topsar_deburst(read_product(r'_results\\interferogram.dim'), polarization)"
   ]
  },
  {
   "cell_type": "code",
   "execution_count": 21,
   "id": "86846654-6649-4f93-934b-35fe735c3ad7",
   "metadata": {},
   "outputs": [],
   "source": [
    "#write(deburst, r'_results\\deburst', 'BEAM-DIMAP')"
   ]
  },
  {
   "cell_type": "markdown",
   "id": "16fc0316-2020-4ded-8c86-9a47f3f72e02",
   "metadata": {},
   "source": [
    "## 4.8. Goldstein Phase Filtering"
   ]
  },
  {
   "cell_type": "code",
   "execution_count": 25,
   "id": "ae618b00-d5df-4040-818c-0149823eae6a",
   "metadata": {},
   "outputs": [
    {
     "name": "stdout",
     "output_type": "stream",
     "text": [
      "Apply Goldstein Phase Filtering...\n",
      "Goldstein Phase Filtering applied!\n"
     ]
    }
   ],
   "source": [
    "goldstein = goldstein_phase_filtering(read_product(r'_results\\deburst.dim'))"
   ]
  },
  {
   "cell_type": "code",
   "execution_count": 23,
   "id": "9c5cc00d-9afb-4052-a130-8a0760490b4f",
   "metadata": {},
   "outputs": [],
   "source": [
    "#write(goldstein, r'_results\\goldstein', 'BEAM-DIMAP')"
   ]
  },
  {
   "cell_type": "markdown",
   "id": "4d1c732f-2266-493a-953c-4f6e5b7910b1",
   "metadata": {},
   "source": [
    "# 5. Snaphu process"
   ]
  },
  {
   "cell_type": "markdown",
   "id": "e4ea653e-5602-4e75-a7e7-1c162455f18e",
   "metadata": {},
   "source": [
    "## 5.1. Snaphu Export"
   ]
  },
  {
   "cell_type": "code",
   "execution_count": 27,
   "id": "ba8708cf-1d8c-4aa8-97a6-ae1aca8349c2",
   "metadata": {},
   "outputs": [
    {
     "name": "stdout",
     "output_type": "stream",
     "text": [
      "Processing complete.\n",
      "Output:\n",
      " Executing processing graph\n",
      "....10%....20%....30%....40%....50%....60%....70%....80%....90% done.\n",
      "\n"
     ]
    }
   ],
   "source": [
    "snaphu_export(\n",
    "    snaphu_export_xml_path,\n",
    "    dim_snaphu_export,\n",
    "    target_folder_snaphu_export)"
   ]
  },
  {
   "cell_type": "markdown",
   "id": "f8e62abe-de52-4cb5-93f2-7a86c66e58ea",
   "metadata": {},
   "source": [
    "## 5.2. Snaphu Unwrapping"
   ]
  },
  {
   "cell_type": "code",
   "execution_count": 28,
   "id": "7db98725-25d5-4f82-aa27-a553fd7945ea",
   "metadata": {},
   "outputs": [
    {
     "name": "stdout",
     "output_type": "stream",
     "text": [
      "Running SNAPHU command: \"C:\\Users\\35196\\.snap\\auxdata\\snaphu-v2.0.4_win64\\bin\\snaphu.exe\" -f snaphu.conf Phase_ifg_IW1_VH_20May2025_08May2025.snaphu.img 20449\n",
      "Working directory: C:\\Users\\35196\\repos\\Sentinel1_DEMgeneration\\_results\\_snaphu_export\\goldstein\n",
      "SNAPHU unwrapping completed successfully!\n",
      "Output: \n",
      "snaphu v2.0.4\n",
      "27 parameters input from file snaphu.conf (84 lines total)\n",
      "Logging run-time parameters to file snaphu.log\n",
      "Creating temporary directory snaphu_tiles_1501\n",
      "Unwrapping tile at row 0, column 0 (pid 1502)\n",
      "Unwrapping tile at row 0, column 1 (pid 1503)\n",
      "Unwrapping tile at row 0, column 2 (pid 1504)\n",
      "Unwrapping tile at row 0, column 3 (pid 1505)\n",
      "Unwrapping tile at row 0, column 4 (pid 1506)\n",
      "Unwrapping tile at row 0, column 5 (pid 1507)\n",
      "Unwrapping tile at row 0, column 6 (pid 1508)\n",
      "Unwrapping tile at row 0, column 7 (pid 1509)\n",
      "Unwrapping tile at row 0, column 8 (pid 1510)\n",
      "Unwrapping tile at row 0, column 9 (pid 1511)\n",
      "Unwrapping tile at row 1, column 0 (pid 1512)\n",
      "Unwrapping tile at row 1, column 1 (pid 1513)\n",
      "Unwrapping tile at row 1, column 2 (pid 1514)\n",
      "Unwrapping tile at row 1, column 3 (pid 1515)\n",
      "Unwrapping tile at row 1, column 4 (pid 1516)\n",
      "Unwrapping tile at row 1, column 5 (pid 1517)\n",
      "Unwrapping tile at row 1, column 6 (pid 1518)\n",
      "Unwrapping tile at row 1, column 7 (pid 1519)\n",
      "Unwrapping tile at row 1, column 8 (pid 1520)\n",
      "Unwrapping tile at row 1, column 9 (pid 1521)\n",
      "Unwrapping tile at row 2, column 0 (pid 1522)\n",
      "Unwrapping tile at row 2, column 1 (pid 1523)\n",
      "Unwrapping tile at row 2, column 2 (pid 1524)\n",
      "Unwrapping tile at row 2, column 3 (pid 1525)\n",
      "Unwrapping tile at row 2, column 4 (pid 1526)\n",
      "Unwrapping tile at row 2, column 5 (pid 1527)\n",
      "Unwrapping tile at row 2, column 6 (pid 1528)\n",
      "Unwrapping tile at row 2, column 7 (pid 1529)\n",
      "Unwrapping tile at row 2, column 8 (pid 1530)\n",
      "Unwrapping tile at row 2, column 9 (pid 1531)\n",
      "Unwrapping tile at row 3, column 0 (pid 1532)\n",
      "Unwrapping tile at row 3, column 1 (pid 1533)\n",
      "Unwrapping tile at row 3, column 2 (pid 1534)\n",
      "Unwrapping tile at row 3, column 3 (pid 1535)\n",
      "Unwrapping tile at row 3, column 4 (pid 1536)\n",
      "Unwrapping tile at row 3, column 5 (pid 1537)\n",
      "Unwrapping tile at row 3, column 6 (pid 1538)\n",
      "Unwrapping tile at row 3, column 7 (pid 1539)\n",
      "Unwrapping tile at row 3, column 8 (pid 1540)\n",
      "Unwrapping tile at row 3, column 9 (pid 1541)\n",
      "Unwrapping tile at row 4, column 0 (pid 1542)\n",
      "Unwrapping tile at row 4, column 1 (pid 1543)\n",
      "Unwrapping tile at row 4, column 2 (pid 1544)\n",
      "Unwrapping tile at row 4, column 3 (pid 1545)\n",
      "Unwrapping tile at row 4, column 4 (pid 1546)\n",
      "Unwrapping tile at row 4, column 5 (pid 1547)\n",
      "Unwrapping tile at row 4, column 6 (pid 1548)\n",
      "Unwrapping tile at row 4, column 7 (pid 1549)\n",
      "Unwrapping tile at row 4, column 8 (pid 1550)\n",
      "Unwrapping tile at row 4, column 9 (pid 1551)\n",
      "Unwrapping tile at row 5, column 0 (pid 1552)\n",
      "Unwrapping tile at row 5, column 1 (pid 1553)\n",
      "Unwrapping tile at row 5, column 2 (pid 1554)\n",
      "Unwrapping tile at row 5, column 3 (pid 1555)\n",
      "Unwrapping tile at row 5, column 4 (pid 1556)\n",
      "Unwrapping tile at row 5, column 5 (pid 1557)\n",
      "Unwrapping tile at row 5, column 6 (pid 1558)\n",
      "Unwrapping tile at row 5, column 7 (pid 1559)\n",
      "Unwrapping tile at row 5, column 8 (pid 1560)\n",
      "Unwrapping tile at row 5, column 9 (pid 1561)\n",
      "Unwrapping tile at row 6, column 0 (pid 1562)\n",
      "Unwrapping tile at row 6, column 1 (pid 1563)\n",
      "Unwrapping tile at row 6, column 2 (pid 1564)\n",
      "Unwrapping tile at row 6, column 3 (pid 1565)\n",
      "Unwrapping tile at row 6, column 4 (pid 1566)\n",
      "Unwrapping tile at row 6, column 5 (pid 1567)\n",
      "Unwrapping tile at row 6, column 6 (pid 1568)\n",
      "Unwrapping tile at row 6, column 7 (pid 1569)\n",
      "Unwrapping tile at row 6, column 8 (pid 1570)\n",
      "Unwrapping tile at row 6, column 9 (pid 1571)\n",
      "Unwrapping tile at row 7, column 0 (pid 1572)\n",
      "Unwrapping tile at row 7, column 1 (pid 1573)\n",
      "Unwrapping tile at row 7, column 2 (pid 1574)\n",
      "Unwrapping tile at row 7, column 3 (pid 1575)\n",
      "Unwrapping tile at row 7, column 4 (pid 1576)\n",
      "Unwrapping tile at row 7, column 5 (pid 1577)\n",
      "Unwrapping tile at row 7, column 6 (pid 1578)\n",
      "Unwrapping tile at row 7, column 7 (pid 1579)\n",
      "Unwrapping tile at row 7, column 8 (pid 1580)\n",
      "Unwrapping tile at row 7, column 9 (pid 1581)\n",
      "Unwrapping tile at row 8, column 0 (pid 1582)\n",
      "Unwrapping tile at row 8, column 1 (pid 1583)\n",
      "Unwrapping tile at row 8, column 2 (pid 1584)\n",
      "Unwrapping tile at row 8, column 3 (pid 1585)\n",
      "Unwrapping tile at row 8, column 4 (pid 1586)\n",
      "Unwrapping tile at row 8, column 5 (pid 1587)\n",
      "Unwrapping tile at row 8, column 6 (pid 1588)\n",
      "Unwrapping tile at row 8, column 7 (pid 1589)\n",
      "Unwrapping tile at row 8, column 8 (pid 1590)\n",
      "Unwrapping tile at row 8, column 9 (pid 1591)\n",
      "Unwrapping tile at row 9, column 0 (pid 1592)\n",
      "Unwrapping tile at row 9, column 1 (pid 1593)\n",
      "Unwrapping tile at row 9, column 2 (pid 1594)\n",
      "Unwrapping tile at row 9, column 3 (pid 1595)\n",
      "Unwrapping tile at row 9, column 4 (pid 1596)\n",
      "Unwrapping tile at row 9, column 5 (pid 1597)\n",
      "Unwrapping tile at row 9, column 6 (pid 1598)\n",
      "Unwrapping tile at row 9, column 7 (pid 1599)\n",
      "Unwrapping tile at row 9, column 8 (pid 1600)\n",
      "Unwrapping tile at row 9, column 9 (pid 1601)\n",
      "Assembling tiles\n",
      "Running optimizer for secondary network\n",
      "Number of nodes in secondary network: 17455\n",
      "Flow increment: 1  (Total improvements: 0)\n",
      "Treesize: 1          Pivots: 0           Improvements: 0        Treesize: 1541       Pivots: 1           Improvements: 1        Treesize: 1541       Pivots: 4           Improvements: 1        Treesize: 2969       Pivots: 5           Improvements: 1        Treesize: 2969       Pivots: 7           Improvements: 3        Treesize: 2969       Pivots: 8           Improvements: 3        Treesize: 3123       Pivots: 9           Improvements: 3        Treesize: 4299       Pivots: 10          Improvements: 4        Treesize: 4299       Pivots: 12          Improvements: 4        Treesize: 4425       Pivots: 14          Improvements: 6        Treesize: 4425       Pivots: 16          Improvements: 7        Treesize: 4425       Pivots: 17          Improvements: 7        Treesize: 7309       Pivots: 18          Improvements: 8        Treesize: 7365       Pivots: 19          Improvements: 8        Treesize: 9885       Pivots: 20          Improvements: 9        Treesize: 9885       Pivots: 29          Improvements: 9        Treesize: 9885       Pivots: 32          Improvements: 9        Treesize: 9885       Pivots: 34          Improvements: 9        Treesize: 9885       Pivots: 38          Improvements: 10       Treesize: 9885       Pivots: 43          Improvements: 10       Treesize: 9885       Pivots: 44          Improvements: 10       Treesize: 9899       Pivots: 49          Improvements: 11       Treesize: 9899       Pivots: 62          Improvements: 12       Treesize: 9899       Pivots: 66          Improvements: 12       Treesize: 9899       Pivots: 69          Improvements: 12       Treesize: 9899       Pivots: 71          Improvements: 12       Treesize: 10669      Pivots: 72          Improvements: 12       Treesize: 11467      Pivots: 73          Improvements: 12       Treesize: 11467      Pivots: 74          Improvements: 12       Treesize: 11467      Pivots: 75          Improvements: 12       Treesize: 11467      Pivots: 76          Improvements: 12       Treesize: 15275      Pivots: 79          Improvements: 12       Treesize: 15275      Pivots: 80          Improvements: 12       Treesize: 15275      Pivots: 81          Improvements: 12       Treesize: 15625      Pivots: 82          Improvements: 12       Treesize: 17417      Pivots: 83          Improvements: 13       Treesize: 17417      Pivots: 103         Improvements: 13       Treesize: 17417      Pivots: 178         Improvements: 13       Treesize: 17417      Pivots: 212         Improvements: 13       Treesize: 17417      Pivots: 243         Improvements: 13       Treesize: 17417      Pivots: 265         Improvements: 14       Treesize: 17417      Pivots: 326         Improvements: 14       Treesize: 17417      Pivots: 398         Improvements: 14       Treesize: 17417      Pivots: 430         Improvements: 14       Treesize: 17417      Pivots: 469         Improvements: 14       Treesize: 17417      Pivots: 481         Improvements: 14       Treesize: 17417      Pivots: 487         Improvements: 14       Treesize: 17417      Pivots: 490         Improvements: 14       Treesize: 17417      Pivots: 492         Improvements: 14       Treesize: 17417      Pivots: 494         Improvements: 14       Treesize: 17417      Pivots: 496         Improvements: 14       Treesize: 17417      Pivots: 498         Improvements: 14       Treesize: 17417      Pivots: 500         Improvements: 14       Treesize: 17417      Pivots: 502         Improvements: 14       Treesize: 17417      Pivots: 505         Improvements: 14       Treesize: 17417      Pivots: 507         Improvements: 14       Treesize: 17417      Pivots: 508         Improvements: 14       Treesize: 17417      Pivots: 509         Improvements: 14       Treesize: 17417      Pivots: 510         Improvements: 14       Treesize: 17417      Pivots: 511         Improvements: 14       Treesize: 17417      Pivots: 512         Improvements: 14       Treesize: 17417      Pivots: 513         Improvements: 14       Treesize: 17417      Pivots: 514         Improvements: 14       Treesize: 17417      Pivots: 515         Improvements: 14       Treesize: 17417      Pivots: 516         Improvements: 14       Treesize: 17417      Pivots: 517         Improvements: 14       Treesize: 17417      Pivots: 518         Improvements: 14       Treesize: 17417      Pivots: 519         Improvements: 14       Treesize: 17417      Pivots: 520         Improvements: 14       Treesize: 17417      Pivots: 521         Improvements: 14       Treesize: 17417      Pivots: 522         Improvements: 14       Treesize: 17417      Pivots: 523         Improvements: 14       Treesize: 17417      Pivots: 524         Improvements: 14       Treesize: 17417      Pivots: 525         Improvements: 14       Treesize: 17417      Pivots: 526         Improvements: 14       Treesize: 17417      Pivots: 527         Improvements: 14       Treesize: 17417      Pivots: 528         Improvements: 14       Treesize: 17417      Pivots: 529         Improvements: 14       Treesize: 17417      Pivots: 530         Improvements: 14       Treesize: 17417      Pivots: 531         Improvements: 14       Treesize: 17417      Pivots: 532         Improvements: 14       Treesize: 17417      Pivots: 533         Improvements: 14       Treesize: 17417      Pivots: 534         Improvements: 14       Treesize: 17417      Pivots: 535         Improvements: 14       Treesize: 17417      Pivots: 536         Improvements: 14       Treesize: 17417      Pivots: 537         Improvements: 14       Treesize: 17417      Pivots: 538         Improvements: 14       Treesize: 17417      Pivots: 539         Improvements: 14       Treesize: 17417      Pivots: 540         Improvements: 14       Treesize: 17417      Pivots: 541         Improvements: 14       Treesize: 17417      Pivots: 542         Improvements: 14       Treesize: 17417      Pivots: 543         Improvements: 14       Treesize: 17417      Pivots: 544         Improvements: 14       Treesize: 17417      Pivots: 545         Improvements: 14       Treesize: 17417      Pivots: 546         Improvements: 14       Treesize: 17417      Pivots: 547         Improvements: 14       Treesize: 17417      Pivots: 548         Improvements: 14       Treesize: 17417      Pivots: 549         Improvements: 14       Treesize: 17431      Pivots: 551         Improvements: 16       Treesize: 17431      Pivots: 606         Improvements: 16       Treesize: 17431      Pivots: 643         Improvements: 16       Treesize: 17431      Pivots: 655         Improvements: 16       Treesize: 17431      Pivots: 667         Improvements: 16       Treesize: 17431      Pivots: 674         Improvements: 16       Treesize: 17431      Pivots: 678         Improvements: 16       Treesize: 17445      Pivots: 680         Improvements: 17       Treesize: 17445      Pivots: 721         Improvements: 19       Treesize: 17445      Pivots: 766         Improvements: 19       Treesize: 17445      Pivots: 783         Improvements: 20       Treesize: 17445      Pivots: 812         Improvements: 20       Treesize: 17445      Pivots: 826         Improvements: 20       Treesize: 17445      Pivots: 838         Improvements: 20       Treesize: 17445      Pivots: 847         Improvements: 20       Treesize: 17445      Pivots: 852         Improvements: 20       Treesize: 17445      Pivots: 863         Improvements: 20       Treesize: 17445      Pivots: 870         Improvements: 20       Treesize: 17445      Pivots: 878         Improvements: 20       Treesize: 17445      Pivots: 879         Improvements: 20       Treesize: 17445      Pivots: 880         Improvements: 20       Treesize: 17445      Pivots: 881         Improvements: 20       Treesize: 17455      Pivots: 887         Improvements: 23       Treesize: 17455      Pivots: 946         Improvements: 23       Treesize: 17455      Pivots: 992         Improvements: 23       Treesize: 17455      Pivots: 1016        Improvements: 23       Treesize: 17455      Pivots: 1037        Improvements: 25       Treesize: 17455      Pivots: 1066        Improvements: 25       Treesize: 17455      Pivots: 1094        Improvements: 25       Treesize: 17455      Pivots: 1103        Improvements: 25       Treesize: 17455      Pivots: 1108        Improvements: 25       Treesize: 17455      Pivots: 1120        Improvements: 25       Treesize: 17455      Pivots: 1127        Improvements: 25       Treesize: 17455      Pivots: 1129        Improvements: 25       Treesize: 17455      Pivots: 1130        Improvements: 25       Treesize: 17455      Pivots: 1130        Improvements: 25         \n",
      "Flow increment: 2  (Total improvements: 25)\n",
      "Treesize: 1          Pivots: 0           Improvements: 0        Treesize: 17455      Pivots: 0           Improvements: 0          \n",
      "Flow increment: 3  (Total improvements: 25)\n",
      "Treesize: 1          Pivots: 0           Improvements: 0        Treesize: 17455      Pivots: 0           Improvements: 0          \n",
      "Flow increment: 4  (Total improvements: 25)\n",
      "Treesize: 1          Pivots: 0           Improvements: 0        Treesize: 17455      Pivots: 0           Improvements: 0          \n",
      "Integrating secondary flows\n",
      "Output written to file UnwPhase_ifg_IW1_VH_20May2025_08May2025.snaphu.img\n",
      "Removing temporary directory snaphu_tiles_1501\n",
      "SUGGESTION: Try increasing tile overlap and/or size if solution has edge artifacts\n",
      "Program snaphu done\n",
      "Elapsed processor time:   1:15:30.01\n",
      "Elapsed wall clock time:  0:21:10\n",
      "\n"
     ]
    },
    {
     "data": {
      "text/plain": [
       "True"
      ]
     },
     "execution_count": 28,
     "metadata": {},
     "output_type": "execute_result"
    }
   ],
   "source": [
    "snaphu_unwrapping(conf_file_path, snaphu_exe_path, target_folder_snaphu_export_something_else)   "
   ]
  },
  {
   "cell_type": "markdown",
   "id": "b8eacf88-3b86-492b-bc29-bdeb077285d6",
   "metadata": {},
   "source": [
    "## 5.3. Snaphu Import"
   ]
  },
  {
   "cell_type": "code",
   "execution_count": 26,
   "id": "3920b517-38f9-4ed2-8d10-3d2f44ab191b",
   "metadata": {},
   "outputs": [
    {
     "name": "stdout",
     "output_type": "stream",
     "text": [
      "SNAPHU import...\n",
      "SNAPHU imported...\n"
     ]
    }
   ],
   "source": [
    "unwrapped_phase = snaphu_import(read_product(r'_results\\goldstein.dim'), read_product(r'_results\\_snaphu_export\\goldstein\\UnwPhase_ifg_IW1_VH_20May2025_08May2025.snaphu.img'))"
   ]
  },
  {
   "cell_type": "code",
   "execution_count": 38,
   "id": "040e0a40-2973-4777-8ddf-bae6c72e6819",
   "metadata": {},
   "outputs": [],
   "source": [
    "#write(unwrapped_phase, r'_results\\unwrapped_phase', 'BEAM-DIMAP')"
   ]
  },
  {
   "cell_type": "markdown",
   "id": "31ca9295-2797-4601-944d-ed5d0b7c825b",
   "metadata": {},
   "source": [
    "# 6. Back to porcessing workflow"
   ]
  },
  {
   "cell_type": "markdown",
   "id": "1595ff9c-9bf3-43e6-9e6e-1fb0ab459ddf",
   "metadata": {},
   "source": [
    "## 6.1. Phase to Elevation"
   ]
  },
  {
   "cell_type": "code",
   "execution_count": 26,
   "id": "2f3d46d0-f945-4dba-9ede-2066b4010417",
   "metadata": {},
   "outputs": [
    {
     "name": "stdout",
     "output_type": "stream",
     "text": [
      "Turning Phase to Elevation...\n",
      "Phase to Elevation applied!\n"
     ]
    }
   ],
   "source": [
    "phase_elevation = phase_to_elevation(read_product(r'_results\\unwrapped_phase.dim'), otherDEM)"
   ]
  },
  {
   "cell_type": "code",
   "execution_count": 27,
   "id": "87bf4ebc-dcc4-4552-b4f8-85064c2e8737",
   "metadata": {},
   "outputs": [],
   "source": [
    "#write(phase_elevation, r'_results\\phase_to_elevation', 'BEAM-DIMAP')"
   ]
  },
  {
   "cell_type": "markdown",
   "id": "e1b23c17-a509-4bdb-81ce-099b8b1418c0",
   "metadata": {},
   "source": [
    "## 6.2. Terrain Correction"
   ]
  },
  {
   "cell_type": "code",
   "execution_count": 28,
   "id": "1a97fbaf-0b8a-41a4-892f-f55b0e7d924d",
   "metadata": {},
   "outputs": [
    {
     "name": "stdout",
     "output_type": "stream",
     "text": [
      "Applying Terrain Correction...\n",
      "Terrain Correction applied!\n"
     ]
    }
   ],
   "source": [
    "terrain_correction = terrain_correction(read_product(r'_results\\phase_to_elevation.dim'), otherDEM)"
   ]
  },
  {
   "cell_type": "code",
   "execution_count": 31,
   "id": "fd153138-96d0-4867-a979-b9084dd67c97",
   "metadata": {},
   "outputs": [],
   "source": [
    "#write(terrain_correction, r'_results\\terrain_correction', 'BEAM-DIMAP')"
   ]
  },
  {
   "cell_type": "markdown",
   "id": "122704a1-bbc7-4075-8b17-781f2df6e568",
   "metadata": {},
   "source": [
    "## 6.3. Subset"
   ]
  },
  {
   "cell_type": "code",
   "execution_count": 32,
   "id": "fbeed9c3-52d7-45ab-90da-04666ab27c8d",
   "metadata": {
    "scrolled": true
   },
   "outputs": [
    {
     "name": "stdout",
     "output_type": "stream",
     "text": [
      "Subsetting...\n",
      "Subset applied!\n"
     ]
    }
   ],
   "source": [
    "subset = subset(read_product(r'_results\\terrain_correction.dim'), aoi)"
   ]
  },
  {
   "cell_type": "code",
   "execution_count": 34,
   "id": "4b8d80b8-e302-4f7d-9df1-e13b8b5427af",
   "metadata": {},
   "outputs": [],
   "source": [
    "#write(subset, r'_results\\subset', 'BEAM-DIMAP')"
   ]
  },
  {
   "cell_type": "markdown",
   "id": "17bdc5ee-ed21-4a0f-acd4-97c94116b3cd",
   "metadata": {},
   "source": [
    "## 6.4. Export in GeoTIFF"
   ]
  },
  {
   "cell_type": "code",
   "execution_count": 35,
   "id": "844fd1d7-eeba-4362-984f-f49a57b06660",
   "metadata": {},
   "outputs": [
    {
     "name": "stdout",
     "output_type": "stream",
     "text": [
      "Writing the product...\n",
      "Product written!\n"
     ]
    }
   ],
   "source": [
    "write(subset, r'_results\\dem', \"GeoTiff\")"
   ]
  },
  {
   "cell_type": "code",
   "execution_count": null,
   "id": "1aed4aec-d91c-4a29-9362-381fb3b8d244",
   "metadata": {},
   "outputs": [],
   "source": []
  }
 ],
 "metadata": {
  "kernelspec": {
   "display_name": "Python (sar_env)",
   "language": "python",
   "name": "sar_env"
  },
  "language_info": {
   "codemirror_mode": {
    "name": "ipython",
    "version": 3
   },
   "file_extension": ".py",
   "mimetype": "text/x-python",
   "name": "python",
   "nbconvert_exporter": "python",
   "pygments_lexer": "ipython3",
   "version": "3.9.21"
  }
 },
 "nbformat": 4,
 "nbformat_minor": 5
}
