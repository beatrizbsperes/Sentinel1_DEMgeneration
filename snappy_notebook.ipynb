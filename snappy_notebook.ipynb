{
 "cells": [
  {
   "cell_type": "code",
   "execution_count": 1,
   "id": "04d30b10-f299-4331-9f33-4a37392ab405",
   "metadata": {},
   "outputs": [],
   "source": [
    "import os\n",
    "import esa_snappy\n",
    "from esa_snappy import GPF\n",
    "from esa_snappy import ProductIO, GeoPos, PixelPos, WKTReader\n",
    "from esa_snappy import HashMap\n",
    "from esa_snappy import jpy\n",
    "import subprocess\n",
    "from time import *\n",
    "import numpy as np\n",
    "from shapely.geometry import Point, Polygon\n",
    "import geopandas as gpd\n",
    "import sys\n",
    "import xml.etree.ElementTree as ET\n",
    "import matplotlib.pyplot as plt\n",
    "from datetime import datetime\n",
    "\n",
    "from snappy_functions import extract_info, temporal_baseline, perpendicular_baseline, read_product, write\n",
    "from snappy_functions import get_subswath, check_same_subswath, topsar_split\n",
    "from snappy_functions import apply_orbit_file, back_geocoding, enhanced_spectral_diversity\n",
    "from snappy_functions import interferogram, topsar_deburst, goldstein_phase_filtering, subset\n",
    "from snappy_functions import phase_to_elevation, terrain_correction\n",
    "from snappy_functions import snaphu_export, snaphu_unwrapping, snaphu_import"
   ]
  },
  {
   "cell_type": "markdown",
   "id": "77ffe0e1-945d-42c2-81fa-cc5247777694",
   "metadata": {},
   "source": [
    "# 1. Loading data"
   ]
  },
  {
   "cell_type": "code",
   "execution_count": 2,
   "id": "27edfc0c-4a80-4260-bf7f-91733553c2bc",
   "metadata": {},
   "outputs": [],
   "source": [
    "#a = r'_data\\cabo_verde\\small_perp_baseline\\S1C_IW_SLC__1SDV_20250508T072956_20250508T073019_002236_004BF8_2AB6.SAFE' #cabo verde 1\n",
    "#b = r'_data\\cabo_verde\\small_perp_baseline\\S1C_IW_SLC__1SDV_20250520T072956_20250520T073020_002411_0050E8_4316.SAFE'# small baseline\n",
    "#aoi = \"POLYGON((-24.5393 14.7695,-24.2561 14.7695,-24.2561 15.0778,-24.5393 15.0778,-24.5393 14.7695))\" \n",
    "\n",
    "a = r\"_data\\cabo_verde\\big_perp_baseline\\S1B_IW_SLC__1SDV_20210210T073014_20210210T073044_025541_030B1A_05A9.SAFE\" #cabo verde 2\n",
    "b = r\"_data\\cabo_verde\\big_perp_baseline\\S1B_IW_SLC__1SDV_20210306T073014_20210306T073044_025891_031686_A249.SAFE\" #big baseline\n",
    "aoi = \"POLYGON((-24.5393 14.7695,-24.2561 14.7695,-24.2561 15.0778,-24.5393 15.0778,-24.5393 14.7695))\"\n",
    "\n",
    "#a = r\"_data\\costa_rica\\small_perp_baseline\\S1A_IW_SLC__1SDV_20250311T112253_20250311T112320_058256_073329_ED6E.SAFE\" #costa rica 3\n",
    "#b = r\"_data\\costa_rica\\small_perp_baseline\\S1A_IW_SLC__1SDV_20250323T112253_20250323T112320_058431_073A11_0FFE.SAFE\" #small baseline\n",
    "#aoi = \"POLYGON((-83.4192 9.394,-82.9822 9.394,-82.9822 9.8997,-83.4192 9.8997,-83.4192 9.394))\" \n",
    "\n",
    "#a = r\"_data\\costa_rica\\big_perp_baseline\\S1A_IW_SLC__1SDV_20250404T112254_20250404T112321_058606_074124_81E3.SAFE\" #costa rica 4\n",
    "#b = r\"_data\\costa_rica\\big_perp_baseline\\S1A_IW_SLC__1SDV_20250416T112253_20250416T112320_058781_07484E_810A.SAFE\" #big baseline\n",
    "#aoi = \"POLYGON((-83.4192 9.394,-82.9822 9.394,-82.9822 9.8997,-83.4192 9.8997,-83.4192 9.394))\" \n",
    "\n",
    "polarization = 'VV'\n",
    "\n",
    "DEM = \"SRTM 1Sec HGT (Auto Download)\"\n",
    "otherDEM = \"Copernicus 30m Global DEM\"\n",
    "\n",
    "snaphu_export_xml_path = r\"C:\\Users\\35196\\repos\\Sentinel1_DEMgeneration\\_data\\SnaphuExport.xml\"\n",
    "dim_snaphu_export=r\"C:\\Users\\35196\\repos\\Sentinel1_DEMgeneration\\_results\\goldstein.dim\"\n",
    "target_folder_snaphu_export=r\"C:\\Users\\35196\\repos\\Sentinel1_DEMgeneration\\_results\\_snaphu_export\"\n",
    "\n",
    "conf_file_path = r\"C:\\Users\\35196\\repos\\Sentinel1_DEMgeneration\\_results\\_snaphu_export\\goldstein\\snaphu.conf\"\n",
    "snaphu_exe_path = r\"C:\\Users\\35196\\.snap\\auxdata\\snaphu-v2.0.4_win64\\bin\\snaphu.exe\"\n",
    "target_folder_snaphu_export_something_else = r\"C:\\Users\\35196\\repos\\Sentinel1_DEMgeneration\\_results\\_snaphu_export\\goldstein\""
   ]
  },
  {
   "cell_type": "code",
   "execution_count": 3,
   "id": "e818518b-3485-40ea-8c57-0119e4e73223",
   "metadata": {},
   "outputs": [],
   "source": [
    "master = read_product(a)\n",
    "slave = read_product(b)"
   ]
  },
  {
   "cell_type": "markdown",
   "id": "5dac5458-49be-43ba-bf4f-30b97c03ba56",
   "metadata": {},
   "source": [
    "# 2. Extracting basic information"
   ]
  },
  {
   "cell_type": "markdown",
   "id": "1bdef7a5-ff3d-4ea8-85e8-11b5889d16f6",
   "metadata": {},
   "source": [
    "## 2.1. Metadata information"
   ]
  },
  {
   "cell_type": "code",
   "execution_count": 6,
   "id": "74b8ee1f-e40f-48d2-bb3c-852e5c406b10",
   "metadata": {},
   "outputs": [
    {
     "name": "stdout",
     "output_type": "stream",
     "text": [
      "Product name: S1B_IW_SLC__1SDV_20210210T073014_20210210T073044_025541_030B1A_05A9\n",
      "Product type: SLC\n",
      "Description: Sentinel-1 IW Level-1 SLC Product\n",
      "Scene width: 68591\n",
      "Scene height: 15060\n",
      "Start time: 10-FEB-2021 07:30:14.834283\n",
      "End time: 10-FEB-2021 07:30:44.654238\n",
      "\n",
      " Bands\n",
      "Number of bands: 18\n",
      "Band name: i_IW1_VH\n",
      "Band name: q_IW1_VH\n",
      "Band name: Intensity_IW1_VH\n",
      "Band name: i_IW1_VV\n",
      "Band name: q_IW1_VV\n",
      "Band name: Intensity_IW1_VV\n",
      "Band name: i_IW2_VH\n",
      "Band name: q_IW2_VH\n",
      "Band name: Intensity_IW2_VH\n",
      "Band name: i_IW2_VV\n",
      "Band name: q_IW2_VV\n",
      "Band name: Intensity_IW2_VV\n",
      "Band name: i_IW3_VH\n",
      "Band name: q_IW3_VH\n",
      "Band name: Intensity_IW3_VH\n",
      "Band name: i_IW3_VV\n",
      "Band name: q_IW3_VV\n",
      "Band name: Intensity_IW3_VV\n",
      "\n",
      "\n",
      "Product name: S1B_IW_SLC__1SDV_20210306T073014_20210306T073044_025891_031686_A249\n",
      "Product type: SLC\n",
      "Description: Sentinel-1 IW Level-1 SLC Product\n",
      "Scene width: 68592\n",
      "Scene height: 15060\n",
      "Start time: 06-MAR-2021 07:30:14.418555\n",
      "End time: 06-MAR-2021 07:30:44.238510\n",
      "\n",
      " Bands\n",
      "Number of bands: 18\n",
      "Band name: i_IW1_VH\n",
      "Band name: q_IW1_VH\n",
      "Band name: Intensity_IW1_VH\n",
      "Band name: i_IW1_VV\n",
      "Band name: q_IW1_VV\n",
      "Band name: Intensity_IW1_VV\n",
      "Band name: i_IW2_VH\n",
      "Band name: q_IW2_VH\n",
      "Band name: Intensity_IW2_VH\n",
      "Band name: i_IW2_VV\n",
      "Band name: q_IW2_VV\n",
      "Band name: Intensity_IW2_VV\n",
      "Band name: i_IW3_VH\n",
      "Band name: q_IW3_VH\n",
      "Band name: Intensity_IW3_VH\n",
      "Band name: i_IW3_VV\n",
      "Band name: q_IW3_VV\n",
      "Band name: Intensity_IW3_VV\n",
      "\n",
      "\n"
     ]
    }
   ],
   "source": [
    "extract_info(a)\n",
    "extract_info(b)"
   ]
  },
  {
   "cell_type": "markdown",
   "id": "971e70d8-bbb7-4285-a5e1-ace4fc5dfa68",
   "metadata": {},
   "source": [
    "## 2.2. Temporal baseline"
   ]
  },
  {
   "cell_type": "code",
   "execution_count": 7,
   "id": "af33d7ff-ff1e-4ed8-b5c6-0005132ec1ba",
   "metadata": {},
   "outputs": [
    {
     "name": "stdout",
     "output_type": "stream",
     "text": [
      "Temporal Baseline: 24.0 days\n"
     ]
    }
   ],
   "source": [
    "temporal_baseline(a, b)"
   ]
  },
  {
   "cell_type": "markdown",
   "id": "489f3f01-4871-4251-800b-6996961c35e4",
   "metadata": {},
   "source": [
    "# 3. Studying the Area of Interest"
   ]
  },
  {
   "cell_type": "code",
   "execution_count": 8,
   "id": "9237bd8e-284c-432e-90c2-e5e694a3bf46",
   "metadata": {},
   "outputs": [
    {
     "data": {
      "text/plain": [
       "'IW1'"
      ]
     },
     "execution_count": 8,
     "metadata": {},
     "output_type": "execute_result"
    }
   ],
   "source": [
    "get_subswath (aoi, master)"
   ]
  },
  {
   "cell_type": "code",
   "execution_count": 9,
   "id": "67caddc5-fb86-46f3-919b-830f6a9cfe93",
   "metadata": {},
   "outputs": [
    {
     "data": {
      "text/plain": [
       "'IW1'"
      ]
     },
     "execution_count": 9,
     "metadata": {},
     "output_type": "execute_result"
    }
   ],
   "source": [
    "get_subswath (aoi, slave)"
   ]
  },
  {
   "cell_type": "code",
   "execution_count": 10,
   "id": "c3b65c32-570c-4f06-a425-ab9613dae997",
   "metadata": {},
   "outputs": [
    {
     "name": "stdout",
     "output_type": "stream",
     "text": [
      "Both product use the same subswath: IW1\n"
     ]
    }
   ],
   "source": [
    "check_same_subswath(master, slave, aoi)"
   ]
  },
  {
   "cell_type": "markdown",
   "id": "d6c53d7f-21e6-4026-9e95-4c53b07cc8ec",
   "metadata": {},
   "source": [
    "# 4. Processing workflow"
   ]
  },
  {
   "cell_type": "markdown",
   "id": "575d8a0d-4f34-45f2-a369-b05c92f0e47d",
   "metadata": {},
   "source": [
    "## 4.1. TOPSAR-Split"
   ]
  },
  {
   "cell_type": "code",
   "execution_count": 11,
   "id": "7b63e788-a4ef-4705-80d1-ad3d7db65531",
   "metadata": {},
   "outputs": [
    {
     "name": "stdout",
     "output_type": "stream",
     "text": [
      "Apply TOPSAR Split...\n",
      "TOPSAR Split applied!\n",
      "Apply TOPSAR Split...\n",
      "TOPSAR Split applied!\n"
     ]
    }
   ],
   "source": [
    "split_master = topsar_split(master, get_subswath(aoi, master), polarization, \"1\", \"9\")\n",
    "split_slave = topsar_split(slave, get_subswath(aoi, slave), polarization, \"1\", \"9\")"
   ]
  },
  {
   "cell_type": "code",
   "execution_count": 12,
   "id": "190c41fb-227a-4236-86be-4175afb3b435",
   "metadata": {},
   "outputs": [
    {
     "name": "stdout",
     "output_type": "stream",
     "text": [
      "Writing the product...\n",
      "Product written!\n",
      "Writing the product...\n",
      "Product written!\n"
     ]
    }
   ],
   "source": [
    "write(split_master, '_results\\split_master', 'BEAM-DIMAP')\n",
    "write(split_slave, '_results\\split_slave', 'BEAM-DIMAP')"
   ]
  },
  {
   "cell_type": "markdown",
   "id": "3883fc80-6b0f-4609-8af6-fb5a8e0d0200",
   "metadata": {},
   "source": [
    "## 4.2. Apply Orbit File"
   ]
  },
  {
   "cell_type": "code",
   "execution_count": 13,
   "id": "330604c4-6930-4467-97a9-b26142a51d69",
   "metadata": {
    "scrolled": true
   },
   "outputs": [
    {
     "name": "stdout",
     "output_type": "stream",
     "text": [
      "Apply Orbit File...\n",
      "Orbit File applied!\n",
      "Apply Orbit File...\n",
      "Orbit File applied!\n"
     ]
    }
   ],
   "source": [
    "orbit_master = apply_orbit_file(read_product('_results\\split_master.dim'))\n",
    "orbit_slave = apply_orbit_file(read_product('_results\\split_slave.dim'))"
   ]
  },
  {
   "cell_type": "code",
   "execution_count": 14,
   "id": "f7c5dc63-e4cd-4eea-83ee-db8ea8fe1fc8",
   "metadata": {
    "scrolled": true
   },
   "outputs": [
    {
     "name": "stdout",
     "output_type": "stream",
     "text": [
      "Writing the product...\n",
      "Product written!\n",
      "Writing the product...\n",
      "Product written!\n"
     ]
    }
   ],
   "source": [
    "write(orbit_master, '_results\\orbit_master', 'BEAM-DIMAP')\n",
    "write(orbit_slave, '_results\\orbit_slave', 'BEAM-DIMAP')"
   ]
  },
  {
   "cell_type": "markdown",
   "id": "29b71a10-acdd-48a0-95d0-20d05a4c3b22",
   "metadata": {},
   "source": [
    "## 4.3. Back geocoding"
   ]
  },
  {
   "cell_type": "code",
   "execution_count": 15,
   "id": "24972422-b636-4b92-ac7e-0fd11d35c9b7",
   "metadata": {
    "scrolled": true
   },
   "outputs": [
    {
     "name": "stdout",
     "output_type": "stream",
     "text": [
      "Back geocoding ...\n",
      "Back geocoding applied!\n"
     ]
    }
   ],
   "source": [
    "back = back_geocoding([read_product('_results\\orbit_master.dim'), read_product('_results\\orbit_slave.dim')], DEM)"
   ]
  },
  {
   "cell_type": "code",
   "execution_count": 16,
   "id": "8b021366-9bb5-4858-bbb5-96e12bb14dd6",
   "metadata": {},
   "outputs": [
    {
     "name": "stdout",
     "output_type": "stream",
     "text": [
      "Writing the product...\n",
      "Product written!\n"
     ]
    }
   ],
   "source": [
    "write(back, r'_results\\back_geocoding', 'BEAM-DIMAP')"
   ]
  },
  {
   "cell_type": "markdown",
   "id": "519c4b1e-2ba6-46de-9ab0-7ae882133e5c",
   "metadata": {},
   "source": [
    "## 4.4. Enhanced Spectral Diversity"
   ]
  },
  {
   "cell_type": "code",
   "execution_count": 17,
   "id": "80e5cbec-cb64-4c45-92e2-fbe3fea1f3fd",
   "metadata": {},
   "outputs": [
    {
     "name": "stdout",
     "output_type": "stream",
     "text": [
      "Enhancing Spectral Diversity ...\n",
      "Enhanced Spectral Diversity applied!\n"
     ]
    }
   ],
   "source": [
    "enhanced = enhanced_spectral_diversity(read_product(r'_results\\back_geocoding.dim'))"
   ]
  },
  {
   "cell_type": "code",
   "execution_count": 18,
   "id": "dc7d8bff-488b-4e62-ab62-f6a23bec5333",
   "metadata": {},
   "outputs": [
    {
     "name": "stdout",
     "output_type": "stream",
     "text": [
      "Writing the product...\n",
      "Product written!\n"
     ]
    }
   ],
   "source": [
    "write(enhanced, r'_results\\enhanced', 'BEAM-DIMAP')"
   ]
  },
  {
   "cell_type": "markdown",
   "id": "84e470d9-645a-4712-89be-cd2033e54bdb",
   "metadata": {},
   "source": [
    "## 4.5. Interferogram Formation"
   ]
  },
  {
   "cell_type": "code",
   "execution_count": 19,
   "id": "f4238f67-f91c-41af-8a51-b1004bdf7068",
   "metadata": {},
   "outputs": [
    {
     "name": "stdout",
     "output_type": "stream",
     "text": [
      "Creating interferogram ...\n",
      "Interferogram created!\n"
     ]
    }
   ],
   "source": [
    "interferogram = interferogram(read_product(r'_results\\enhanced.dim'))"
   ]
  },
  {
   "cell_type": "code",
   "execution_count": 20,
   "id": "9354995f-e5ba-4466-825d-d77765b8a0a6",
   "metadata": {},
   "outputs": [
    {
     "name": "stdout",
     "output_type": "stream",
     "text": [
      "Writing the product...\n",
      "Product written!\n"
     ]
    }
   ],
   "source": [
    "write(interferogram, r'_results\\interferogram', 'BEAM-DIMAP')"
   ]
  },
  {
   "cell_type": "markdown",
   "id": "b3f248b8-45ac-4c86-bd2f-a82d40c0ef6a",
   "metadata": {},
   "source": [
    "## 4.6. Calculate perpendicular baseline"
   ]
  },
  {
   "cell_type": "code",
   "execution_count": 21,
   "id": "5e1b255c-748e-4e4b-8240-15be41d92f0c",
   "metadata": {},
   "outputs": [
    {
     "name": "stdout",
     "output_type": "stream",
     "text": [
      "Perpendicular Baseline: 171.56344604492188 m\n"
     ]
    }
   ],
   "source": [
    "perpendicular_baseline(r'_results\\interferogram.dim')"
   ]
  },
  {
   "cell_type": "markdown",
   "id": "a4d813a9-ee75-45ba-aab4-9947eb56c870",
   "metadata": {},
   "source": [
    "## 4.7. Deburst"
   ]
  },
  {
   "cell_type": "code",
   "execution_count": 22,
   "id": "94e47926-f472-43a8-a0cf-f1cfe4908744",
   "metadata": {},
   "outputs": [
    {
     "name": "stdout",
     "output_type": "stream",
     "text": [
      "Apply TOPSAR Deburst...\n",
      "TOPSAR Deburst applied!\n"
     ]
    }
   ],
   "source": [
    "deburst = topsar_deburst(read_product(r'_results\\interferogram.dim'), polarization)"
   ]
  },
  {
   "cell_type": "code",
   "execution_count": 23,
   "id": "86846654-6649-4f93-934b-35fe735c3ad7",
   "metadata": {},
   "outputs": [
    {
     "name": "stdout",
     "output_type": "stream",
     "text": [
      "Writing the product...\n",
      "Product written!\n"
     ]
    }
   ],
   "source": [
    "write(deburst, r'_results\\deburst', 'BEAM-DIMAP')"
   ]
  },
  {
   "cell_type": "markdown",
   "id": "16fc0316-2020-4ded-8c86-9a47f3f72e02",
   "metadata": {},
   "source": [
    "## 4.8. Goldstein Phase Filtering"
   ]
  },
  {
   "cell_type": "code",
   "execution_count": 24,
   "id": "ae618b00-d5df-4040-818c-0149823eae6a",
   "metadata": {},
   "outputs": [
    {
     "name": "stdout",
     "output_type": "stream",
     "text": [
      "Apply Goldstein Phase Filtering...\n",
      "Goldstein Phase Filtering applied!\n"
     ]
    }
   ],
   "source": [
    "goldstein = goldstein_phase_filtering(read_product(r'_results\\deburst.dim'))"
   ]
  },
  {
   "cell_type": "code",
   "execution_count": 25,
   "id": "9c5cc00d-9afb-4052-a130-8a0760490b4f",
   "metadata": {},
   "outputs": [
    {
     "name": "stdout",
     "output_type": "stream",
     "text": [
      "Writing the product...\n",
      "Product written!\n"
     ]
    }
   ],
   "source": [
    "write(goldstein, r'_results\\goldstein', 'BEAM-DIMAP')"
   ]
  },
  {
   "cell_type": "markdown",
   "id": "4d1c732f-2266-493a-953c-4f6e5b7910b1",
   "metadata": {},
   "source": [
    "# 5. Snaphu process"
   ]
  },
  {
   "cell_type": "markdown",
   "id": "e4ea653e-5602-4e75-a7e7-1c162455f18e",
   "metadata": {},
   "source": [
    "## 5.1. Snaphu Export"
   ]
  },
  {
   "cell_type": "code",
   "execution_count": 4,
   "id": "ba8708cf-1d8c-4aa8-97a6-ae1aca8349c2",
   "metadata": {},
   "outputs": [
    {
     "name": "stdout",
     "output_type": "stream",
     "text": [
      "Snaphu exporting...\n",
      "Processing complete.\n",
      "Output:\n",
      " Executing processing graph\n",
      "....10%....20%....30%....40%....50%....60%....70%....80%....90% done.\n",
      "\n"
     ]
    }
   ],
   "source": [
    "snaphu_export(snaphu_export_xml_path, dim_snaphu_export, target_folder_snaphu_export)"
   ]
  },
  {
   "cell_type": "markdown",
   "id": "f8e62abe-de52-4cb5-93f2-7a86c66e58ea",
   "metadata": {},
   "source": [
    "## 5.2. Snaphu Unwrapping"
   ]
  },
  {
   "cell_type": "code",
   "execution_count": null,
   "id": "7db98725-25d5-4f82-aa27-a553fd7945ea",
   "metadata": {},
   "outputs": [
    {
     "name": "stdout",
     "output_type": "stream",
     "text": [
      "Running SNAPHU command: \"C:\\Users\\35196\\.snap\\auxdata\\snaphu-v2.0.4_win64\\bin\\snaphu.exe\" -f snaphu.conf Phase_ifg_IW1_VV_06Mar2021_10Feb2021.snaphu.img 20450\n",
      "Working directory: C:\\Users\\35196\\repos\\Sentinel1_DEMgeneration\\_results\\_snaphu_export\\goldstein\n"
     ]
    }
   ],
   "source": [
    "snaphu_unwrapping(conf_file_path, snaphu_exe_path, target_folder_snaphu_export_something_else)"
   ]
  },
  {
   "cell_type": "markdown",
   "id": "b8eacf88-3b86-492b-bc29-bdeb077285d6",
   "metadata": {},
   "source": [
    "## 5.3. Snaphu Import"
   ]
  },
  {
   "cell_type": "markdown",
   "id": "10733549-3a5a-472c-8d6a-5669092455fb",
   "metadata": {},
   "source": [
    "Just change the name after the unwrapping process (a file with a name similar to this one ```UnwPhase_ifg_IW1_VV_04Apr2025_16Apr2025.snaphu.img```"
   ]
  },
  {
   "cell_type": "code",
   "execution_count": 7,
   "id": "3920b517-38f9-4ed2-8d10-3d2f44ab191b",
   "metadata": {},
   "outputs": [
    {
     "name": "stdout",
     "output_type": "stream",
     "text": [
      "SNAPHU importing...\n",
      "SNAPHU imported...\n"
     ]
    }
   ],
   "source": [
    "unwrapped_phase = snaphu_import(read_product(r'_results\\goldstein.dim'), read_product(r'_results\\_snaphu_export\\goldstein\\UnwPhase_ifg_IW1_VV_06Mar2021_10Feb2021.snaphu.img'))"
   ]
  },
  {
   "cell_type": "code",
   "execution_count": 8,
   "id": "040e0a40-2973-4777-8ddf-bae6c72e6819",
   "metadata": {},
   "outputs": [
    {
     "name": "stdout",
     "output_type": "stream",
     "text": [
      "Writing the product...\n",
      "Product written!\n"
     ]
    }
   ],
   "source": [
    "write(unwrapped_phase, r'_results\\unwrapped_phase', 'BEAM-DIMAP')"
   ]
  },
  {
   "cell_type": "markdown",
   "id": "31ca9295-2797-4601-944d-ed5d0b7c825b",
   "metadata": {},
   "source": [
    "# 6. Back to porcessing workflow"
   ]
  },
  {
   "cell_type": "markdown",
   "id": "1595ff9c-9bf3-43e6-9e6e-1fb0ab459ddf",
   "metadata": {},
   "source": [
    "## 6.1. Phase to Elevation"
   ]
  },
  {
   "cell_type": "code",
   "execution_count": 28,
   "id": "2f3d46d0-f945-4dba-9ede-2066b4010417",
   "metadata": {},
   "outputs": [
    {
     "name": "stdout",
     "output_type": "stream",
     "text": [
      "Turning Phase to Elevation...\n",
      "Phase to Elevation applied!\n"
     ]
    }
   ],
   "source": [
    "phase_elevation = phase_to_elevation(read_product(r'_results\\unwrapped_phase.dim'), DEM)"
   ]
  },
  {
   "cell_type": "code",
   "execution_count": null,
   "id": "87bf4ebc-dcc4-4552-b4f8-85064c2e8737",
   "metadata": {},
   "outputs": [
    {
     "name": "stdout",
     "output_type": "stream",
     "text": [
      "Writing the product...\n"
     ]
    }
   ],
   "source": [
    "write(phase_elevation, r'_results\\phase_to_elevation', 'BEAM-DIMAP')"
   ]
  },
  {
   "cell_type": "markdown",
   "id": "e1b23c17-a509-4bdb-81ce-099b8b1418c0",
   "metadata": {},
   "source": [
    "## 6.2. Terrain Correction"
   ]
  },
  {
   "cell_type": "code",
   "execution_count": 30,
   "id": "1a97fbaf-0b8a-41a4-892f-f55b0e7d924d",
   "metadata": {},
   "outputs": [],
   "source": [
    "terrain_correction = terrain_correction(read_product(r'_results\\phase_to_elevation.dim'), DEM)"
   ]
  },
  {
   "cell_type": "code",
   "execution_count": 8,
   "id": "fd153138-96d0-4867-a979-b9084dd67c97",
   "metadata": {},
   "outputs": [
    {
     "name": "stdout",
     "output_type": "stream",
     "text": [
      "Writing the product...\n"
     ]
    },
    {
     "ename": "RuntimeError",
     "evalue": "no matching Java method overloads found",
     "output_type": "error",
     "traceback": [
      "\u001b[1;31m---------------------------------------------------------------------------\u001b[0m",
      "\u001b[1;31mRuntimeError\u001b[0m                              Traceback (most recent call last)",
      "Cell \u001b[1;32mIn[8], line 1\u001b[0m\n\u001b[1;32m----> 1\u001b[0m \u001b[43mwrite\u001b[49m\u001b[43m(\u001b[49m\u001b[43mterrain_correction\u001b[49m\u001b[43m,\u001b[49m\u001b[43m \u001b[49m\u001b[38;5;124;43mr\u001b[39;49m\u001b[38;5;124;43m'\u001b[39;49m\u001b[38;5;124;43m_results\u001b[39;49m\u001b[38;5;124;43m\\\u001b[39;49m\u001b[38;5;124;43mterrain_correction\u001b[39;49m\u001b[38;5;124;43m'\u001b[39;49m\u001b[43m,\u001b[49m\u001b[43m \u001b[49m\u001b[38;5;124;43m'\u001b[39;49m\u001b[38;5;124;43mBEAM-DIMAP\u001b[39;49m\u001b[38;5;124;43m'\u001b[39;49m\u001b[43m)\u001b[49m\n",
      "File \u001b[1;32m~\\repos\\Sentinel1_DEMgeneration\\snappy_functions.py:87\u001b[0m, in \u001b[0;36mwrite\u001b[1;34m(product, save_path, extension)\u001b[0m\n\u001b[0;32m     84\u001b[0m \u001b[38;5;28mprint\u001b[39m(\u001b[38;5;124m\"\u001b[39m\u001b[38;5;124mWriting the product...\u001b[39m\u001b[38;5;124m\"\u001b[39m)\n\u001b[0;32m     85\u001b[0m \u001b[38;5;66;03m#GeoTIFF = .tif\u001b[39;00m\n\u001b[0;32m     86\u001b[0m \u001b[38;5;66;03m#BEAM-DIMAP = .dim\u001b[39;00m\n\u001b[1;32m---> 87\u001b[0m \u001b[43mProductIO\u001b[49m\u001b[38;5;241;43m.\u001b[39;49m\u001b[43mwriteProduct\u001b[49m\u001b[43m(\u001b[49m\u001b[43mproduct\u001b[49m\u001b[43m,\u001b[49m\u001b[43m \u001b[49m\u001b[43msave_path\u001b[49m\u001b[43m,\u001b[49m\u001b[43m \u001b[49m\u001b[43mextension\u001b[49m\u001b[43m)\u001b[49m\n\u001b[0;32m     88\u001b[0m \u001b[38;5;28mprint\u001b[39m(\u001b[38;5;124m\"\u001b[39m\u001b[38;5;124mProduct written!\u001b[39m\u001b[38;5;124m\"\u001b[39m)\n",
      "\u001b[1;31mRuntimeError\u001b[0m: no matching Java method overloads found"
     ]
    }
   ],
   "source": [
    "write(terrain_correction, r'_results\\terrain_correction', 'BEAM-DIMAP')"
   ]
  },
  {
   "cell_type": "markdown",
   "id": "122704a1-bbc7-4075-8b17-781f2df6e568",
   "metadata": {},
   "source": [
    "## 6.3. Subset"
   ]
  },
  {
   "cell_type": "code",
   "execution_count": 5,
   "id": "fbeed9c3-52d7-45ab-90da-04666ab27c8d",
   "metadata": {
    "scrolled": true
   },
   "outputs": [
    {
     "name": "stdout",
     "output_type": "stream",
     "text": [
      "Subsetting...\n",
      "Subset applied!\n"
     ]
    }
   ],
   "source": [
    "subset = subset(read_product(r'_results\\terrain_correction.dim'), aoi)"
   ]
  },
  {
   "cell_type": "code",
   "execution_count": 6,
   "id": "4b8d80b8-e302-4f7d-9df1-e13b8b5427af",
   "metadata": {},
   "outputs": [
    {
     "name": "stdout",
     "output_type": "stream",
     "text": [
      "Writing the product...\n",
      "Product written!\n"
     ]
    }
   ],
   "source": [
    "write(subset, r'_results\\subset', 'BEAM-DIMAP')"
   ]
  },
  {
   "cell_type": "markdown",
   "id": "17bdc5ee-ed21-4a0f-acd4-97c94116b3cd",
   "metadata": {},
   "source": [
    "## 6.4. Export in GeoTIFF"
   ]
  },
  {
   "cell_type": "code",
   "execution_count": 7,
   "id": "844fd1d7-eeba-4362-984f-f49a57b06660",
   "metadata": {},
   "outputs": [
    {
     "name": "stdout",
     "output_type": "stream",
     "text": [
      "Writing the product...\n",
      "Product written!\n"
     ]
    }
   ],
   "source": [
    "write(subset, r'_results\\dem', \"GeoTiff\")"
   ]
  },
  {
   "cell_type": "code",
   "execution_count": null,
   "id": "1aed4aec-d91c-4a29-9362-381fb3b8d244",
   "metadata": {},
   "outputs": [],
   "source": []
  },
  {
   "cell_type": "code",
   "execution_count": null,
   "id": "67565161-7350-46d8-9ffb-5ce331e8df36",
   "metadata": {
    "scrolled": true
   },
   "outputs": [],
   "source": []
  },
  {
   "cell_type": "code",
   "execution_count": null,
   "id": "edb4472b-8c2e-4508-9738-20424acb291c",
   "metadata": {},
   "outputs": [],
   "source": []
  }
 ],
 "metadata": {
  "kernelspec": {
   "display_name": "Python (sar_env)",
   "language": "python",
   "name": "sar_env"
  },
  "language_info": {
   "codemirror_mode": {
    "name": "ipython",
    "version": 3
   },
   "file_extension": ".py",
   "mimetype": "text/x-python",
   "name": "python",
   "nbconvert_exporter": "python",
   "pygments_lexer": "ipython3",
   "version": "3.9.21"
  }
 },
 "nbformat": 4,
 "nbformat_minor": 5
}
